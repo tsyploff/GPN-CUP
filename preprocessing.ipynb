{
 "cells": [
  {
   "cell_type": "markdown",
   "metadata": {},
   "source": [
    "# GPN-CUP"
   ]
  },
  {
   "cell_type": "markdown",
   "metadata": {},
   "source": [
    "Для лучшего управления магазинами, в частности, для более оптимального планирования промо-кампаний и прогнозирования спроса, вам необходимо разбить магазины на кластеры похожих. Единственный способ, которым пользовалась компания в прошлом – это разбитие по географическому признаку, то есть по городам. Но вы верите, что прочие характеристики магазинов, а самое главное, профили продаж магазинов, помогут сделать это гораздо точнее."
   ]
  },
  {
   "cell_type": "markdown",
   "metadata": {},
   "source": [
    "<img src=\"img/mad_max.jpg\" height=400px width=640px>"
   ]
  },
  {
   "cell_type": "markdown",
   "metadata": {},
   "source": [
    "Итак, задача – провести кластерный анализ магазинов. В данной работе упор будет сделан на кластеризацию для прогнозирования продаж. Анализ будет проведён в несколько этапов:\n",
    "\n",
    "    1) построение описательных статистик, изучение имеющихся данных.\n",
    "\n",
    "    2) выделение основных факторов, влияющих на продажи.\n",
    "\n",
    "    3) проведение кластерного анализа.\n",
    "\n",
    "    4) построение примера прогнозной модели для кластеризированных данных. "
   ]
  },
  {
   "cell_type": "markdown",
   "metadata": {},
   "source": [
    "## Знакомство с данными"
   ]
  },
  {
   "cell_type": "markdown",
   "metadata": {},
   "source": [
    "Прежде всего импортируем необходимые библиотек"
   ]
  },
  {
   "cell_type": "code",
   "execution_count": 1,
   "metadata": {},
   "outputs": [],
   "source": [
    "import numpy as np\n",
    "import pandas as pd\n",
    "\n",
    "import matplotlib.pyplot as plt\n",
    "import seaborn as sns"
   ]
  },
  {
   "cell_type": "code",
   "execution_count": 2,
   "metadata": {},
   "outputs": [],
   "source": [
    "plt.rcParams['figure.figsize'] = (10, 6)"
   ]
  },
  {
   "cell_type": "markdown",
   "metadata": {},
   "source": [
    "Данные о разбивке городов по локациям"
   ]
  },
  {
   "cell_type": "code",
   "execution_count": 3,
   "metadata": {},
   "outputs": [
    {
     "data": {
      "text/html": [
       "<div>\n",
       "<style scoped>\n",
       "    .dataframe tbody tr th:only-of-type {\n",
       "        vertical-align: middle;\n",
       "    }\n",
       "\n",
       "    .dataframe tbody tr th {\n",
       "        vertical-align: top;\n",
       "    }\n",
       "\n",
       "    .dataframe thead th {\n",
       "        text-align: right;\n",
       "    }\n",
       "</style>\n",
       "<table border=\"1\" class=\"dataframe\">\n",
       "  <thead>\n",
       "    <tr style=\"text-align: right;\">\n",
       "      <th></th>\n",
       "      <th>city</th>\n",
       "      <th>location</th>\n",
       "    </tr>\n",
       "  </thead>\n",
       "  <tbody>\n",
       "    <tr>\n",
       "      <th>0</th>\n",
       "      <td>Крепость Джита</td>\n",
       "      <td>Скалистый Могильник</td>\n",
       "    </tr>\n",
       "    <tr>\n",
       "      <th>1</th>\n",
       "      <td>Суховей</td>\n",
       "      <td>Скалистый Могильник</td>\n",
       "    </tr>\n",
       "    <tr>\n",
       "      <th>2</th>\n",
       "      <td>Храм Фритюра</td>\n",
       "      <td>Скалистый Могильник</td>\n",
       "    </tr>\n",
       "    <tr>\n",
       "      <th>3</th>\n",
       "      <td>Убежище Жестянщика</td>\n",
       "      <td>Свистящие Степи</td>\n",
       "    </tr>\n",
       "    <tr>\n",
       "      <th>4</th>\n",
       "      <td>Газтаун</td>\n",
       "      <td>Радиоактивная Пустошь</td>\n",
       "    </tr>\n",
       "  </tbody>\n",
       "</table>\n",
       "</div>"
      ],
      "text/plain": [
       "                 city               location\n",
       "0      Крепость Джита    Скалистый Могильник\n",
       "1             Суховей    Скалистый Могильник\n",
       "2        Храм Фритюра    Скалистый Могильник\n",
       "3  Убежище Жестянщика        Свистящие Степи\n",
       "4             Газтаун  Радиоактивная Пустошь"
      ]
     },
     "execution_count": 3,
     "metadata": {},
     "output_type": "execute_result"
    }
   ],
   "source": [
    "cities = pd.read_parquet('cities.parquet')\n",
    "cities.head()"
   ]
  },
  {
   "cell_type": "code",
   "execution_count": 4,
   "metadata": {},
   "outputs": [
    {
     "name": "stdout",
     "output_type": "stream",
     "text": [
      "<class 'pandas.core.frame.DataFrame'>\n",
      "RangeIndex: 15 entries, 0 to 14\n",
      "Data columns (total 2 columns):\n",
      " #   Column    Non-Null Count  Dtype \n",
      "---  ------    --------------  ----- \n",
      " 0   city      15 non-null     object\n",
      " 1   location  15 non-null     object\n",
      "dtypes: object(2)\n",
      "memory usage: 368.0+ bytes\n"
     ]
    }
   ],
   "source": [
    "cities.info()"
   ]
  },
  {
   "cell_type": "code",
   "execution_count": 5,
   "metadata": {},
   "outputs": [
    {
     "name": "stdout",
     "output_type": "stream",
     "text": [
      "Скалистый Могильник\n",
      "Свистящие Степи\n",
      "Радиоактивная Пустошь\n"
     ]
    }
   ],
   "source": [
    "for loc in cities['location'].unique():\n",
    "    print(loc)"
   ]
  },
  {
   "cell_type": "markdown",
   "metadata": {},
   "source": [
    "Итак, всего имеется 15 городов, расположенных в трёх локациях. "
   ]
  },
  {
   "cell_type": "markdown",
   "metadata": {},
   "source": [
    "<img src=\"img/map.jpg\" height=400px width=711px>"
   ]
  },
  {
   "cell_type": "markdown",
   "metadata": {},
   "source": [
    "Также имеются данные о продажах"
   ]
  },
  {
   "cell_type": "code",
   "execution_count": 6,
   "metadata": {
    "scrolled": true
   },
   "outputs": [
    {
     "data": {
      "text/html": [
       "<div>\n",
       "<style scoped>\n",
       "    .dataframe tbody tr th:only-of-type {\n",
       "        vertical-align: middle;\n",
       "    }\n",
       "\n",
       "    .dataframe tbody tr th {\n",
       "        vertical-align: top;\n",
       "    }\n",
       "\n",
       "    .dataframe thead th {\n",
       "        text-align: right;\n",
       "    }\n",
       "</style>\n",
       "<table border=\"1\" class=\"dataframe\">\n",
       "  <thead>\n",
       "    <tr style=\"text-align: right;\">\n",
       "      <th></th>\n",
       "      <th>date</th>\n",
       "      <th>shop_id</th>\n",
       "      <th>owner</th>\n",
       "      <th>number_of_counters</th>\n",
       "      <th>goods_type</th>\n",
       "      <th>total_items_sold</th>\n",
       "    </tr>\n",
       "  </thead>\n",
       "  <tbody>\n",
       "    <tr>\n",
       "      <th>0</th>\n",
       "      <td>2146-01-01</td>\n",
       "      <td>0</td>\n",
       "      <td>Рейдеры</td>\n",
       "      <td>4</td>\n",
       "      <td>Съедобный хлам</td>\n",
       "      <td>6.0</td>\n",
       "    </tr>\n",
       "    <tr>\n",
       "      <th>1</th>\n",
       "      <td>2146-01-01</td>\n",
       "      <td>0</td>\n",
       "      <td>Рейдеры</td>\n",
       "      <td>4</td>\n",
       "      <td>Хлам</td>\n",
       "      <td>26.0</td>\n",
       "    </tr>\n",
       "    <tr>\n",
       "      <th>2</th>\n",
       "      <td>2146-01-01</td>\n",
       "      <td>0</td>\n",
       "      <td>Рейдеры</td>\n",
       "      <td>4</td>\n",
       "      <td>Бензак</td>\n",
       "      <td>10537.0</td>\n",
       "    </tr>\n",
       "    <tr>\n",
       "      <th>3</th>\n",
       "      <td>2146-01-01</td>\n",
       "      <td>1</td>\n",
       "      <td>Рейдеры</td>\n",
       "      <td>5</td>\n",
       "      <td>Съедобный хлам</td>\n",
       "      <td>17.0</td>\n",
       "    </tr>\n",
       "    <tr>\n",
       "      <th>4</th>\n",
       "      <td>2146-01-01</td>\n",
       "      <td>1</td>\n",
       "      <td>Рейдеры</td>\n",
       "      <td>5</td>\n",
       "      <td>Хлам</td>\n",
       "      <td>9.0</td>\n",
       "    </tr>\n",
       "    <tr>\n",
       "      <th>5</th>\n",
       "      <td>2146-01-01</td>\n",
       "      <td>1</td>\n",
       "      <td>Рейдеры</td>\n",
       "      <td>5</td>\n",
       "      <td>Броня и одежда</td>\n",
       "      <td>2.0</td>\n",
       "    </tr>\n",
       "    <tr>\n",
       "      <th>6</th>\n",
       "      <td>2146-01-01</td>\n",
       "      <td>1</td>\n",
       "      <td>Рейдеры</td>\n",
       "      <td>5</td>\n",
       "      <td>Бензак</td>\n",
       "      <td>5510.0</td>\n",
       "    </tr>\n",
       "  </tbody>\n",
       "</table>\n",
       "</div>"
      ],
      "text/plain": [
       "        date  shop_id    owner  number_of_counters      goods_type  \\\n",
       "0 2146-01-01        0  Рейдеры                   4  Съедобный хлам   \n",
       "1 2146-01-01        0  Рейдеры                   4            Хлам   \n",
       "2 2146-01-01        0  Рейдеры                   4          Бензак   \n",
       "3 2146-01-01        1  Рейдеры                   5  Съедобный хлам   \n",
       "4 2146-01-01        1  Рейдеры                   5            Хлам   \n",
       "5 2146-01-01        1  Рейдеры                   5  Броня и одежда   \n",
       "6 2146-01-01        1  Рейдеры                   5          Бензак   \n",
       "\n",
       "   total_items_sold  \n",
       "0               6.0  \n",
       "1              26.0  \n",
       "2           10537.0  \n",
       "3              17.0  \n",
       "4               9.0  \n",
       "5               2.0  \n",
       "6            5510.0  "
      ]
     },
     "execution_count": 6,
     "metadata": {},
     "output_type": "execute_result"
    }
   ],
   "source": [
    "sales = pd.read_parquet('sales.parquet')\n",
    "sales.head(7)"
   ]
  },
  {
   "cell_type": "code",
   "execution_count": 7,
   "metadata": {},
   "outputs": [
    {
     "name": "stdout",
     "output_type": "stream",
     "text": [
      "<class 'pandas.core.frame.DataFrame'>\n",
      "RangeIndex: 5081459 entries, 0 to 5081458\n",
      "Data columns (total 6 columns):\n",
      " #   Column              Dtype         \n",
      "---  ------              -----         \n",
      " 0   date                datetime64[ns]\n",
      " 1   shop_id             int64         \n",
      " 2   owner               object        \n",
      " 3   number_of_counters  int32         \n",
      " 4   goods_type          object        \n",
      " 5   total_items_sold    float64       \n",
      "dtypes: datetime64[ns](1), float64(1), int32(1), int64(1), object(2)\n",
      "memory usage: 213.2+ MB\n"
     ]
    }
   ],
   "source": [
    "sales.info()"
   ]
  },
  {
   "cell_type": "code",
   "execution_count": 8,
   "metadata": {},
   "outputs": [
    {
     "data": {
      "text/plain": [
       "(845,)"
      ]
     },
     "execution_count": 8,
     "metadata": {},
     "output_type": "execute_result"
    }
   ],
   "source": [
    "sales['shop_id'].unique().shape"
   ]
  },
  {
   "cell_type": "markdown",
   "metadata": {},
   "source": [
    "В нашем располряжении пять миллионов записей о продажах, накопленные за два года в 845 магазинах. Посмотрим, как записи о продажах разделились по владельцам магазинов. "
   ]
  },
  {
   "cell_type": "code",
   "execution_count": 9,
   "metadata": {},
   "outputs": [
    {
     "data": {
      "image/png": "[encoded data removed]",
      "text/plain": [
       "<Figure size 720x432 with 1 Axes>"
      ]
     },
     "metadata": {
      "needs_background": "light"
     },
     "output_type": "display_data"
    }
   ],
   "source": [
    "sales_owner = sales[['owner', 'shop_id']].drop_duplicates()\n",
    "sales_owner['owner'].value_counts().plot.bar()\n",
    "plt.show()"
   ]
  },
  {
   "cell_type": "code",
   "execution_count": 10,
   "metadata": {},
   "outputs": [
    {
     "data": {
      "text/plain": [
       "(1002, 2)"
      ]
     },
     "execution_count": 10,
     "metadata": {},
     "output_type": "execute_result"
    }
   ],
   "source": [
    "sales_owner.shape"
   ]
  },
  {
   "cell_type": "code",
   "execution_count": 11,
   "metadata": {
    "scrolled": true
   },
   "outputs": [
    {
     "data": {
      "text/plain": [
       "owner    2\n",
       "dtype: int64"
      ]
     },
     "execution_count": 11,
     "metadata": {},
     "output_type": "execute_result"
    }
   ],
   "source": [
    "sales_owner.groupby(by=['shop_id']).count().max()"
   ]
  },
  {
   "cell_type": "markdown",
   "metadata": {},
   "source": [
    "Большинство магазинов принадлежат рейдерам. Отметим также, что всего магазинов 845, а уникальных записей в таблице \"владелец\", \"магазин\" – 1002, что означает, что с течением времени магазины меняли владельцев, но не более одного раза. Посмотрим теперь на продажи различных товаров. "
   ]
  },
  {
   "cell_type": "code",
   "execution_count": 12,
   "metadata": {},
   "outputs": [
    {
     "data": {
      "image/png": "[encoded data removed]",
      "text/plain": [
       "<Figure size 720x432 with 1 Axes>"
      ]
     },
     "metadata": {
      "needs_background": "light"
     },
     "output_type": "display_data"
    }
   ],
   "source": [
    "sales_mean_items_sold = sales[['goods_type', 'total_items_sold']].groupby(by=['goods_type']).sum()\n",
    "sales_mean_items_sold.plot.bar(color='green')\n",
    "plt.show()"
   ]
  },
  {
   "cell_type": "code",
   "execution_count": 13,
   "metadata": {},
   "outputs": [
    {
     "data": {
      "text/plain": [
       "(11, 1)"
      ]
     },
     "execution_count": 13,
     "metadata": {},
     "output_type": "execute_result"
    }
   ],
   "source": [
    "sales_mean_items_sold.shape"
   ]
  },
  {
   "cell_type": "markdown",
   "metadata": {},
   "source": [
    "Всего 11 различных типов товаров. Наиболее востребованными являются бензак и солярка. Количество проданного товара этих типов *значительно* превосходит продажи товаров других типов. Посмотрим на распределение (гистограммы) продаж товара каждого типа. "
   ]
  },
  {
   "cell_type": "code",
   "execution_count": 14,
   "metadata": {},
   "outputs": [],
   "source": [
    "goods_types = sales_mean_items_sold.index.to_list()"
   ]
  },
  {
   "cell_type": "code",
   "execution_count": 15,
   "metadata": {},
   "outputs": [
    {
     "data": {
      "image/png": "[encoded data removed]",
      "text/plain": [
       "<Figure size 720x432 with 1 Axes>"
      ]
     },
     "metadata": {
      "needs_background": "light"
     },
     "output_type": "display_data"
    },
    {
     "data": {
      "image/png": "[encoded data removed]",
      "text/plain": [
       "<Figure size 720x432 with 1 Axes>"
      ]
     },
     "metadata": {
      "needs_background": "light"
     },
     "output_type": "display_data"
    },
    {
     "data": {
      "image/png": "[encoded data removed]",
      "text/plain": [
       "<Figure size 720x432 with 1 Axes>"
      ]
     },
     "metadata": {
      "needs_background": "light"
     },
     "output_type": "display_data"
    },
    {
     "data": {
      "image/png": "[encoded data removed]",
      "text/plain": [
       "<Figure size 720x432 with 1 Axes>"
      ]
     },
     "metadata": {
      "needs_background": "light"
     },
     "output_type": "display_data"
    },
    {
     "data": {
      "image/png": "[encoded data removed]",
      "text/plain": [
       "<Figure size 720x432 with 1 Axes>"
      ]
     },
     "metadata": {
      "needs_background": "light"
     },
     "output_type": "display_data"
    },
    {
     "data": {
      "image/png": "[encoded data removed]",
      "text/plain": [
       "<Figure size 720x432 with 1 Axes>"
      ]
     },
     "metadata": {
      "needs_background": "light"
     },
     "output_type": "display_data"
    },
    {
     "data": {
      "image/png": "[encoded data removed]",
      "text/plain": [
       "<Figure size 720x432 with 1 Axes>"
      ]
     },
     "metadata": {
      "needs_background": "light"
     },
     "output_type": "display_data"
    },
    {
     "data": {
      "image/png": "[encoded data removed]",
      "text/plain": [
       "<Figure size 720x432 with 1 Axes>"
      ]
     },
     "metadata": {
      "needs_background": "light"
     },
     "output_type": "display_data"
    },
    {
     "data": {
      "image/png": "[encoded data removed]",
      "text/plain": [
       "<Figure size 720x432 with 1 Axes>"
      ]
     },
     "metadata": {
      "needs_background": "light"
     },
     "output_type": "display_data"
    },
    {
     "data": {
      "image/png": "[encoded data removed]",
      "text/plain": [
       "<Figure size 720x432 with 1 Axes>"
      ]
     },
     "metadata": {
      "needs_background": "light"
     },
     "output_type": "display_data"
    },
    {
     "data": {
      "image/png": "[encoded data removed]",
      "text/plain": [
       "<Figure size 720x432 with 1 Axes>"
      ]
     },
     "metadata": {
      "needs_background": "light"
     },
     "output_type": "display_data"
    }
   ],
   "source": [
    "for goods_type in goods_types:\n",
    "    sales['total_items_sold'][sales['goods_type'] == goods_type].plot.hist(bins=20, \n",
    "                                                                           density=True,\n",
    "                                                                           color=np.random.choice([\n",
    "                                                                               'red', \n",
    "                                                                               'orange', \n",
    "                                                                               'blue', \n",
    "                                                                               'green', \n",
    "                                                                               'magenta']))\n",
    "    plt.title(goods_type)\n",
    "    plt.show()"
   ]
  },
  {
   "cell_type": "markdown",
   "metadata": {},
   "source": [
    "Напоминает скорее пуассоновское распределение. Хотя меня радует наличие \"отрицательных\" продаж, т.е. магазины в состоянии не только продавать, но и покупать (отбирать?) товары. "
   ]
  },
  {
   "cell_type": "code",
   "execution_count": 16,
   "metadata": {},
   "outputs": [
    {
     "data": {
      "text/plain": [
       "4933"
      ]
     },
     "execution_count": 16,
     "metadata": {},
     "output_type": "execute_result"
    }
   ],
   "source": [
    "int(5081459 / sales[sales['total_items_sold'] < 0].shape[0])"
   ]
  },
  {
   "cell_type": "markdown",
   "metadata": {},
   "source": [
    "К счастью, это не самый частый случай (1 к 4933) и его можно игнорировать (считать выбросом)."
   ]
  },
  {
   "cell_type": "markdown",
   "metadata": {},
   "source": [
    "Теоретически магазины могут быть специализироваться или не специализироваться на продаже конкретного товара. Посчитаем, сколько различных товаров продаётся в магазинах. "
   ]
  },
  {
   "cell_type": "code",
   "execution_count": 17,
   "metadata": {},
   "outputs": [
    {
     "data": {
      "image/png": "[encoded data removed]",
      "text/plain": [
       "<Figure size 720x432 with 1 Axes>"
      ]
     },
     "metadata": {
      "needs_background": "light"
     },
     "output_type": "display_data"
    }
   ],
   "source": [
    "sales[['shop_id', 'goods_type']].drop_duplicates().groupby(by=['shop_id']).count().plot.hist()\n",
    "plt.show()"
   ]
  },
  {
   "cell_type": "markdown",
   "metadata": {},
   "source": [
    "Во многих магазинах в продаже имеются все типы товаров, но есть и исключения, и их немало. Перейдём к рассмотрению магазинов. "
   ]
  },
  {
   "cell_type": "code",
   "execution_count": 18,
   "metadata": {},
   "outputs": [
    {
     "data": {
      "text/html": [
       "<div>\n",
       "<style scoped>\n",
       "    .dataframe tbody tr th:only-of-type {\n",
       "        vertical-align: middle;\n",
       "    }\n",
       "\n",
       "    .dataframe tbody tr th {\n",
       "        vertical-align: top;\n",
       "    }\n",
       "\n",
       "    .dataframe thead th {\n",
       "        text-align: right;\n",
       "    }\n",
       "</style>\n",
       "<table border=\"1\" class=\"dataframe\">\n",
       "  <thead>\n",
       "    <tr style=\"text-align: right;\">\n",
       "      <th></th>\n",
       "      <th>shop_id</th>\n",
       "      <th>neighborhood</th>\n",
       "      <th>city</th>\n",
       "      <th>year_opened</th>\n",
       "      <th>is_on_the_road</th>\n",
       "      <th>is_with_the_well</th>\n",
       "      <th>is_with_additional_services</th>\n",
       "      <th>shop_type</th>\n",
       "    </tr>\n",
       "  </thead>\n",
       "  <tbody>\n",
       "    <tr>\n",
       "      <th>0</th>\n",
       "      <td>705</td>\n",
       "      <td>В центре</td>\n",
       "      <td>Крепость Джита</td>\n",
       "      <td>2109</td>\n",
       "      <td>нет</td>\n",
       "      <td>да</td>\n",
       "      <td>да</td>\n",
       "      <td>1</td>\n",
       "    </tr>\n",
       "    <tr>\n",
       "      <th>1</th>\n",
       "      <td>601</td>\n",
       "      <td>В центре</td>\n",
       "      <td>Суховей</td>\n",
       "      <td>2137</td>\n",
       "      <td>нет</td>\n",
       "      <td>нет</td>\n",
       "      <td>нет</td>\n",
       "      <td>4</td>\n",
       "    </tr>\n",
       "    <tr>\n",
       "      <th>2</th>\n",
       "      <td>530</td>\n",
       "      <td>В центре</td>\n",
       "      <td>Храм Фритюра</td>\n",
       "      <td>2118</td>\n",
       "      <td>нет</td>\n",
       "      <td>нет</td>\n",
       "      <td>нет</td>\n",
       "      <td>None</td>\n",
       "    </tr>\n",
       "    <tr>\n",
       "      <th>3</th>\n",
       "      <td>91</td>\n",
       "      <td>В центре</td>\n",
       "      <td>Убежище Жестянщика</td>\n",
       "      <td>2135</td>\n",
       "      <td>нет</td>\n",
       "      <td>нет</td>\n",
       "      <td>да</td>\n",
       "      <td>1</td>\n",
       "    </tr>\n",
       "    <tr>\n",
       "      <th>4</th>\n",
       "      <td>100</td>\n",
       "      <td>На отшибе</td>\n",
       "      <td>Убежище Жестянщика</td>\n",
       "      <td>2135</td>\n",
       "      <td>да</td>\n",
       "      <td>нет</td>\n",
       "      <td>да</td>\n",
       "      <td>2</td>\n",
       "    </tr>\n",
       "    <tr>\n",
       "      <th>5</th>\n",
       "      <td>823</td>\n",
       "      <td>У воды</td>\n",
       "      <td>Газтаун</td>\n",
       "      <td>-1</td>\n",
       "      <td>нет</td>\n",
       "      <td>None</td>\n",
       "      <td>None</td>\n",
       "      <td>1</td>\n",
       "    </tr>\n",
       "    <tr>\n",
       "      <th>6</th>\n",
       "      <td>214</td>\n",
       "      <td>В центре</td>\n",
       "      <td>Пасть</td>\n",
       "      <td>2130</td>\n",
       "      <td>нет</td>\n",
       "      <td>нет</td>\n",
       "      <td>нет</td>\n",
       "      <td>1</td>\n",
       "    </tr>\n",
       "  </tbody>\n",
       "</table>\n",
       "</div>"
      ],
      "text/plain": [
       "   shop_id neighborhood                city  year_opened is_on_the_road  \\\n",
       "0      705     В центре      Крепость Джита         2109            нет   \n",
       "1      601     В центре             Суховей         2137            нет   \n",
       "2      530     В центре        Храм Фритюра         2118            нет   \n",
       "3       91     В центре  Убежище Жестянщика         2135            нет   \n",
       "4      100    На отшибе  Убежище Жестянщика         2135             да   \n",
       "5      823       У воды             Газтаун           -1            нет   \n",
       "6      214     В центре               Пасть         2130            нет   \n",
       "\n",
       "  is_with_the_well is_with_additional_services shop_type  \n",
       "0               да                          да         1  \n",
       "1              нет                         нет         4  \n",
       "2              нет                         нет      None  \n",
       "3              нет                          да         1  \n",
       "4              нет                          да         2  \n",
       "5             None                        None         1  \n",
       "6              нет                         нет         1  "
      ]
     },
     "execution_count": 18,
     "metadata": {},
     "output_type": "execute_result"
    }
   ],
   "source": [
    "shops = pd.read_parquet('shops.parquet')\n",
    "shops.head(7)"
   ]
  },
  {
   "cell_type": "code",
   "execution_count": 19,
   "metadata": {},
   "outputs": [
    {
     "name": "stdout",
     "output_type": "stream",
     "text": [
      "<class 'pandas.core.frame.DataFrame'>\n",
      "RangeIndex: 845 entries, 0 to 844\n",
      "Data columns (total 8 columns):\n",
      " #   Column                       Non-Null Count  Dtype \n",
      "---  ------                       --------------  ----- \n",
      " 0   shop_id                      845 non-null    int32 \n",
      " 1   neighborhood                 845 non-null    object\n",
      " 2   city                         788 non-null    object\n",
      " 3   year_opened                  845 non-null    int32 \n",
      " 4   is_on_the_road               838 non-null    object\n",
      " 5   is_with_the_well             785 non-null    object\n",
      " 6   is_with_additional_services  784 non-null    object\n",
      " 7   shop_type                    713 non-null    object\n",
      "dtypes: int32(2), object(6)\n",
      "memory usage: 46.3+ KB\n"
     ]
    }
   ],
   "source": [
    "shops.info()"
   ]
  },
  {
   "cell_type": "markdown",
   "metadata": {},
   "source": [
    "Записи есть обо всех магазинах. Часть данных пропушена. Посмотрим на распределение магазинов по городам. "
   ]
  },
  {
   "cell_type": "code",
   "execution_count": 20,
   "metadata": {},
   "outputs": [
    {
     "data": {
      "image/png": "[encoded data removed]",
      "text/plain": [
       "<Figure size 720x432 with 1 Axes>"
      ]
     },
     "metadata": {
      "needs_background": "light"
     },
     "output_type": "display_data"
    }
   ],
   "source": [
    "shops['city'].value_counts().plot.bar(color='orange')\n",
    "plt.show()"
   ]
  },
  {
   "cell_type": "markdown",
   "metadata": {},
   "source": [
    "Количество магазинов варьируется от 29 до 70, в среднем 53 магазина в городе. "
   ]
  },
  {
   "cell_type": "markdown",
   "metadata": {},
   "source": [
    "## Выделение основных факторов"
   ]
  },
  {
   "cell_type": "markdown",
   "metadata": {},
   "source": [
    "### Описание модели"
   ]
  },
  {
   "cell_type": "markdown",
   "metadata": {},
   "source": [
    "Каждой паре `(shop_id, goods_type)` соответствует своя динамика (временной ряд) продаж. ***Ключевая идея работы состоит в том, чтобы разбить магазины на кластеры по схожести динамики продаж***. Внутри каждого кластера временные ряды должны быть похожи, а временные ряды разных кластеров различны. Для каждого типа товара будет построена своя кластеризация."
   ]
  },
  {
   "cell_type": "markdown",
   "metadata": {},
   "source": [
    "В каждом кластере будет построен временной ряд продаж, усредняющий значения всех остальных временных рядов. Для этого временного ряда будет построена модель `SARIMAX` (с учётом пуассоновского распределения целевой переменной). Таким образом, чтобы получить прогноз продаж конкретного товара в конкретном магазине, необходимо спрогнозировать усредняющий временной ряд и домножить прогноз на корректирующий коэффициент магазина."
   ]
  },
  {
   "cell_type": "markdown",
   "metadata": {},
   "source": [
    "### Подготовка данных для кластеризации"
   ]
  },
  {
   "cell_type": "markdown",
   "metadata": {},
   "source": [
    "Для кластеризации необходимо построить таблицы для каждого типа товара: имена строк – `date`, имена столбцов – `shop_id`, на пересечении – `total_items_sold`. "
   ]
  },
  {
   "cell_type": "code",
   "execution_count": 21,
   "metadata": {},
   "outputs": [],
   "source": [
    "from tqdm import tqdm #индикатор прогресса"
   ]
  },
  {
   "cell_type": "code",
   "execution_count": 22,
   "metadata": {},
   "outputs": [
    {
     "data": {
      "text/html": [
       "<div>\n",
       "<style scoped>\n",
       "    .dataframe tbody tr th:only-of-type {\n",
       "        vertical-align: middle;\n",
       "    }\n",
       "\n",
       "    .dataframe tbody tr th {\n",
       "        vertical-align: top;\n",
       "    }\n",
       "\n",
       "    .dataframe thead th {\n",
       "        text-align: right;\n",
       "    }\n",
       "</style>\n",
       "<table border=\"1\" class=\"dataframe\">\n",
       "  <thead>\n",
       "    <tr style=\"text-align: right;\">\n",
       "      <th></th>\n",
       "      <th></th>\n",
       "      <th></th>\n",
       "      <th>total_items_sold</th>\n",
       "    </tr>\n",
       "    <tr>\n",
       "      <th>goods_type</th>\n",
       "      <th>shop_id</th>\n",
       "      <th>date</th>\n",
       "      <th></th>\n",
       "    </tr>\n",
       "  </thead>\n",
       "  <tbody>\n",
       "    <tr>\n",
       "      <th rowspan=\"5\" valign=\"top\">Бензак</th>\n",
       "      <th rowspan=\"5\" valign=\"top\">0</th>\n",
       "      <th>2146-01-01</th>\n",
       "      <td>10537.0</td>\n",
       "    </tr>\n",
       "    <tr>\n",
       "      <th>2146-01-02</th>\n",
       "      <td>14107.0</td>\n",
       "    </tr>\n",
       "    <tr>\n",
       "      <th>2146-01-03</th>\n",
       "      <td>16092.0</td>\n",
       "    </tr>\n",
       "    <tr>\n",
       "      <th>2146-01-04</th>\n",
       "      <td>18050.0</td>\n",
       "    </tr>\n",
       "    <tr>\n",
       "      <th>2146-01-05</th>\n",
       "      <td>18456.0</td>\n",
       "    </tr>\n",
       "  </tbody>\n",
       "</table>\n",
       "</div>"
      ],
      "text/plain": [
       "                               total_items_sold\n",
       "goods_type shop_id date                        \n",
       "Бензак     0       2146-01-01           10537.0\n",
       "                   2146-01-02           14107.0\n",
       "                   2146-01-03           16092.0\n",
       "                   2146-01-04           18050.0\n",
       "                   2146-01-05           18456.0"
      ]
     },
     "execution_count": 22,
     "metadata": {},
     "output_type": "execute_result"
    }
   ],
   "source": [
    "data = sales.drop(columns=['owner', 'number_of_counters']).groupby(by=['goods_type', 'shop_id', 'date']).max()\n",
    "data.head()"
   ]
  },
  {
   "cell_type": "code",
   "execution_count": 23,
   "metadata": {},
   "outputs": [
    {
     "name": "stderr",
     "output_type": "stream",
     "text": [
      "100%|██████████████████████████████████████████████████████████████████████████████████| 11/11 [00:02<00:00,  5.35it/s]\n"
     ]
    }
   ],
   "source": [
    "goods_types = sales['goods_type'].unique()\n",
    "for goods_type in tqdm(goods_types):\n",
    "    data_goods_type = data.loc[goods_type].unstack().transpose()\n",
    "    data_goods_type.index = data_goods_type.index.to_frame().date.values\n",
    "    data_goods_type.columns.name = None\n",
    "#     data_goods_type.sort_index().to_csv(goods_type + '.csv')"
   ]
  },
  {
   "cell_type": "markdown",
   "metadata": {},
   "source": [
    "Указанные таблицы созданы и сохранены в формате `CSV`. "
   ]
  },
  {
   "cell_type": "markdown",
   "metadata": {},
   "source": [
    "### Подготовка данных для прогнозирования"
   ]
  },
  {
   "cell_type": "markdown",
   "metadata": {},
   "source": [
    "Следующий этап состоит в подготовке таблицы для прогнозной модели. Построение модели `SARIMAX` в нашем случае можно разделить на два этапа. Первый этап: построение пуассоновской регрессии продаж по факторам в виде"
   ]
  },
  {
   "cell_type": "markdown",
   "metadata": {},
   "source": [
    "$$y_i = \\exp \\left( \\sum \\limits_{i = 1}^m {\\theta_j x_{ji}} \\right) + \\varepsilon_i$$"
   ]
  },
  {
   "cell_type": "markdown",
   "metadata": {},
   "source": [
    "где $y$ (`total_items_sold`) имеет пуассоновское распределение. Факторами $x_j$ будут выступать `neighborhood`, `city`, `location`, `is_on_the_road`, `is_with_the_well`, `is_with_additional_services`, `shop_type`, `owner` и `number_of_counters`. Остатки пуассоновской регрессии $\\varepsilon$ приближаются моделью `SARIMA` (англ. *Seasonal AutoRegressive Integrated Moving Average*). "
   ]
  },
  {
   "cell_type": "markdown",
   "metadata": {},
   "source": [
    "Большинство перечисленных признаков относятся к фиктивным переменным, они будут закодированы методом *one hot encoding*. Кроме того, по некоторым признакам для некоторых магазинов содержатся пропуски. Данные факторы предположительно оказывают *положительное* влияние на динамику продаж. Это кажется логичным, потому что если расположение рядом с дорогой, наличие колодца и прочие дополнительные сервисы не увеличивают продажи, то логично не строить магазины у дорог, зарыть колодцы и т. д. Именно поэтому по данным факторам в таблице пропуски будут заполнены нулями."
   ]
  },
  {
   "cell_type": "markdown",
   "metadata": {},
   "source": [
    "Посмотрим, сколько пропущено значений в каждом столбце."
   ]
  },
  {
   "cell_type": "code",
   "execution_count": 24,
   "metadata": {},
   "outputs": [],
   "source": [
    "from sklearn.preprocessing import OneHotEncoder"
   ]
  },
  {
   "cell_type": "code",
   "execution_count": 25,
   "metadata": {},
   "outputs": [
    {
     "name": "stdout",
     "output_type": "stream",
     "text": [
      "В столбце shop_id пропущено 0 значений.\n",
      "В столбце neighborhood пропущено 0 значений.\n",
      "В столбце city пропущено 57 значений.\n",
      "В столбце year_opened пропущено 0 значений.\n",
      "В столбце is_on_the_road пропущено 7 значений.\n",
      "В столбце is_with_the_well пропущено 60 значений.\n",
      "В столбце is_with_additional_services пропущено 61 значений.\n",
      "В столбце shop_type пропущено 132 значений.\n"
     ]
    }
   ],
   "source": [
    "n = len(shops)\n",
    "for col in shops.columns:\n",
    "    print('В столбце ' + col + ' пропущено', n - shops[col].dropna().shape[0], 'значений.')"
   ]
  },
  {
   "cell_type": "markdown",
   "metadata": {},
   "source": [
    "Заполнаяем пропуски, дополняем информацию о локации"
   ]
  },
  {
   "cell_type": "code",
   "execution_count": 26,
   "metadata": {},
   "outputs": [
    {
     "data": {
      "text/html": [
       "<div>\n",
       "<style scoped>\n",
       "    .dataframe tbody tr th:only-of-type {\n",
       "        vertical-align: middle;\n",
       "    }\n",
       "\n",
       "    .dataframe tbody tr th {\n",
       "        vertical-align: top;\n",
       "    }\n",
       "\n",
       "    .dataframe thead th {\n",
       "        text-align: right;\n",
       "    }\n",
       "</style>\n",
       "<table border=\"1\" class=\"dataframe\">\n",
       "  <thead>\n",
       "    <tr style=\"text-align: right;\">\n",
       "      <th></th>\n",
       "      <th>shop_id</th>\n",
       "      <th>neighborhood</th>\n",
       "      <th>city</th>\n",
       "      <th>is_on_the_road</th>\n",
       "      <th>is_with_the_well</th>\n",
       "      <th>is_with_additional_services</th>\n",
       "      <th>shop_type</th>\n",
       "      <th>location</th>\n",
       "    </tr>\n",
       "  </thead>\n",
       "  <tbody>\n",
       "    <tr>\n",
       "      <th>0</th>\n",
       "      <td>705</td>\n",
       "      <td>В центре</td>\n",
       "      <td>Крепость Джита</td>\n",
       "      <td>нет</td>\n",
       "      <td>да</td>\n",
       "      <td>да</td>\n",
       "      <td>1</td>\n",
       "      <td>Скалистый Могильник</td>\n",
       "    </tr>\n",
       "    <tr>\n",
       "      <th>1</th>\n",
       "      <td>601</td>\n",
       "      <td>В центре</td>\n",
       "      <td>Суховей</td>\n",
       "      <td>нет</td>\n",
       "      <td>нет</td>\n",
       "      <td>нет</td>\n",
       "      <td>4</td>\n",
       "      <td>Скалистый Могильник</td>\n",
       "    </tr>\n",
       "    <tr>\n",
       "      <th>2</th>\n",
       "      <td>530</td>\n",
       "      <td>В центре</td>\n",
       "      <td>Храм Фритюра</td>\n",
       "      <td>нет</td>\n",
       "      <td>нет</td>\n",
       "      <td>нет</td>\n",
       "      <td>0</td>\n",
       "      <td>Скалистый Могильник</td>\n",
       "    </tr>\n",
       "    <tr>\n",
       "      <th>3</th>\n",
       "      <td>91</td>\n",
       "      <td>В центре</td>\n",
       "      <td>Убежище Жестянщика</td>\n",
       "      <td>нет</td>\n",
       "      <td>нет</td>\n",
       "      <td>да</td>\n",
       "      <td>1</td>\n",
       "      <td>Свистящие Степи</td>\n",
       "    </tr>\n",
       "    <tr>\n",
       "      <th>4</th>\n",
       "      <td>100</td>\n",
       "      <td>На отшибе</td>\n",
       "      <td>Убежище Жестянщика</td>\n",
       "      <td>да</td>\n",
       "      <td>нет</td>\n",
       "      <td>да</td>\n",
       "      <td>2</td>\n",
       "      <td>Свистящие Степи</td>\n",
       "    </tr>\n",
       "  </tbody>\n",
       "</table>\n",
       "</div>"
      ],
      "text/plain": [
       "   shop_id neighborhood                city is_on_the_road is_with_the_well  \\\n",
       "0      705     В центре      Крепость Джита            нет               да   \n",
       "1      601     В центре             Суховей            нет              нет   \n",
       "2      530     В центре        Храм Фритюра            нет              нет   \n",
       "3       91     В центре  Убежище Жестянщика            нет              нет   \n",
       "4      100    На отшибе  Убежище Жестянщика             да              нет   \n",
       "\n",
       "  is_with_additional_services shop_type             location  \n",
       "0                          да         1  Скалистый Могильник  \n",
       "1                         нет         4  Скалистый Могильник  \n",
       "2                         нет         0  Скалистый Могильник  \n",
       "3                          да         1      Свистящие Степи  \n",
       "4                          да         2      Свистящие Степи  "
      ]
     },
     "execution_count": 26,
     "metadata": {},
     "output_type": "execute_result"
    }
   ],
   "source": [
    "values = {'city' : 'Неизвестно', \n",
    "          'location' : 'Неизвестно', \n",
    "          'is_on_the_road' : 'нет', \n",
    "          'is_with_the_well' : 'нет', \n",
    "          'is_with_additional_services' : 'нет', \n",
    "          'shop_type' : '0'}\n",
    "shops = shops.merge(cities, on='city', how='left').drop(columns='year_opened').fillna(value=values)\n",
    "shops.head()"
   ]
  },
  {
   "cell_type": "code",
   "execution_count": 27,
   "metadata": {},
   "outputs": [],
   "source": [
    "X = OneHotEncoder(sparse=False).fit_transform(shops.drop(columns='shop_id').values)"
   ]
  },
  {
   "cell_type": "code",
   "execution_count": 28,
   "metadata": {},
   "outputs": [
    {
     "data": {
      "text/html": [
       "<div>\n",
       "<style scoped>\n",
       "    .dataframe tbody tr th:only-of-type {\n",
       "        vertical-align: middle;\n",
       "    }\n",
       "\n",
       "    .dataframe tbody tr th {\n",
       "        vertical-align: top;\n",
       "    }\n",
       "\n",
       "    .dataframe thead th {\n",
       "        text-align: right;\n",
       "    }\n",
       "</style>\n",
       "<table border=\"1\" class=\"dataframe\">\n",
       "  <thead>\n",
       "    <tr style=\"text-align: right;\">\n",
       "      <th></th>\n",
       "      <th>x0</th>\n",
       "      <th>x1</th>\n",
       "      <th>x2</th>\n",
       "      <th>x3</th>\n",
       "      <th>x4</th>\n",
       "      <th>x5</th>\n",
       "      <th>x6</th>\n",
       "      <th>x7</th>\n",
       "      <th>x8</th>\n",
       "      <th>x9</th>\n",
       "      <th>...</th>\n",
       "      <th>x28</th>\n",
       "      <th>x29</th>\n",
       "      <th>x30</th>\n",
       "      <th>x31</th>\n",
       "      <th>x32</th>\n",
       "      <th>x33</th>\n",
       "      <th>x34</th>\n",
       "      <th>x35</th>\n",
       "      <th>x36</th>\n",
       "      <th>x37</th>\n",
       "    </tr>\n",
       "    <tr>\n",
       "      <th>shop_id</th>\n",
       "      <th></th>\n",
       "      <th></th>\n",
       "      <th></th>\n",
       "      <th></th>\n",
       "      <th></th>\n",
       "      <th></th>\n",
       "      <th></th>\n",
       "      <th></th>\n",
       "      <th></th>\n",
       "      <th></th>\n",
       "      <th></th>\n",
       "      <th></th>\n",
       "      <th></th>\n",
       "      <th></th>\n",
       "      <th></th>\n",
       "      <th></th>\n",
       "      <th></th>\n",
       "      <th></th>\n",
       "      <th></th>\n",
       "      <th></th>\n",
       "      <th></th>\n",
       "    </tr>\n",
       "  </thead>\n",
       "  <tbody>\n",
       "    <tr>\n",
       "      <th>0</th>\n",
       "      <td>1</td>\n",
       "      <td>0</td>\n",
       "      <td>0</td>\n",
       "      <td>0</td>\n",
       "      <td>0</td>\n",
       "      <td>0</td>\n",
       "      <td>0</td>\n",
       "      <td>0</td>\n",
       "      <td>0</td>\n",
       "      <td>0</td>\n",
       "      <td>...</td>\n",
       "      <td>1</td>\n",
       "      <td>1</td>\n",
       "      <td>0</td>\n",
       "      <td>0</td>\n",
       "      <td>0</td>\n",
       "      <td>0</td>\n",
       "      <td>0</td>\n",
       "      <td>0</td>\n",
       "      <td>1</td>\n",
       "      <td>0</td>\n",
       "    </tr>\n",
       "    <tr>\n",
       "      <th>1</th>\n",
       "      <td>1</td>\n",
       "      <td>0</td>\n",
       "      <td>0</td>\n",
       "      <td>0</td>\n",
       "      <td>0</td>\n",
       "      <td>0</td>\n",
       "      <td>0</td>\n",
       "      <td>0</td>\n",
       "      <td>0</td>\n",
       "      <td>0</td>\n",
       "      <td>...</td>\n",
       "      <td>1</td>\n",
       "      <td>1</td>\n",
       "      <td>0</td>\n",
       "      <td>0</td>\n",
       "      <td>0</td>\n",
       "      <td>0</td>\n",
       "      <td>0</td>\n",
       "      <td>0</td>\n",
       "      <td>1</td>\n",
       "      <td>0</td>\n",
       "    </tr>\n",
       "    <tr>\n",
       "      <th>2</th>\n",
       "      <td>0</td>\n",
       "      <td>0</td>\n",
       "      <td>1</td>\n",
       "      <td>0</td>\n",
       "      <td>0</td>\n",
       "      <td>0</td>\n",
       "      <td>0</td>\n",
       "      <td>0</td>\n",
       "      <td>0</td>\n",
       "      <td>0</td>\n",
       "      <td>...</td>\n",
       "      <td>0</td>\n",
       "      <td>0</td>\n",
       "      <td>0</td>\n",
       "      <td>1</td>\n",
       "      <td>0</td>\n",
       "      <td>0</td>\n",
       "      <td>0</td>\n",
       "      <td>0</td>\n",
       "      <td>1</td>\n",
       "      <td>0</td>\n",
       "    </tr>\n",
       "    <tr>\n",
       "      <th>3</th>\n",
       "      <td>0</td>\n",
       "      <td>0</td>\n",
       "      <td>0</td>\n",
       "      <td>0</td>\n",
       "      <td>0</td>\n",
       "      <td>1</td>\n",
       "      <td>0</td>\n",
       "      <td>0</td>\n",
       "      <td>0</td>\n",
       "      <td>0</td>\n",
       "      <td>...</td>\n",
       "      <td>1</td>\n",
       "      <td>0</td>\n",
       "      <td>0</td>\n",
       "      <td>0</td>\n",
       "      <td>1</td>\n",
       "      <td>0</td>\n",
       "      <td>0</td>\n",
       "      <td>0</td>\n",
       "      <td>1</td>\n",
       "      <td>0</td>\n",
       "    </tr>\n",
       "    <tr>\n",
       "      <th>4</th>\n",
       "      <td>1</td>\n",
       "      <td>0</td>\n",
       "      <td>0</td>\n",
       "      <td>0</td>\n",
       "      <td>0</td>\n",
       "      <td>0</td>\n",
       "      <td>0</td>\n",
       "      <td>0</td>\n",
       "      <td>0</td>\n",
       "      <td>0</td>\n",
       "      <td>...</td>\n",
       "      <td>0</td>\n",
       "      <td>0</td>\n",
       "      <td>1</td>\n",
       "      <td>0</td>\n",
       "      <td>0</td>\n",
       "      <td>0</td>\n",
       "      <td>0</td>\n",
       "      <td>0</td>\n",
       "      <td>1</td>\n",
       "      <td>0</td>\n",
       "    </tr>\n",
       "  </tbody>\n",
       "</table>\n",
       "<p>5 rows × 38 columns</p>\n",
       "</div>"
      ],
      "text/plain": [
       "         x0  x1  x2  x3  x4  x5  x6  x7  x8  x9  ...  x28  x29  x30  x31  x32  \\\n",
       "shop_id                                          ...                            \n",
       "0         1   0   0   0   0   0   0   0   0   0  ...    1    1    0    0    0   \n",
       "1         1   0   0   0   0   0   0   0   0   0  ...    1    1    0    0    0   \n",
       "2         0   0   1   0   0   0   0   0   0   0  ...    0    0    0    1    0   \n",
       "3         0   0   0   0   0   1   0   0   0   0  ...    1    0    0    0    1   \n",
       "4         1   0   0   0   0   0   0   0   0   0  ...    0    0    1    0    0   \n",
       "\n",
       "         x33  x34  x35  x36  x37  \n",
       "shop_id                           \n",
       "0          0    0    0    1    0  \n",
       "1          0    0    0    1    0  \n",
       "2          0    0    0    1    0  \n",
       "3          0    0    0    1    0  \n",
       "4          0    0    0    1    0  \n",
       "\n",
       "[5 rows x 38 columns]"
      ]
     },
     "execution_count": 28,
     "metadata": {},
     "output_type": "execute_result"
    }
   ],
   "source": [
    "encoded_shops = pd.DataFrame(X, columns=['x' + str(i) for i in range(X.shape[1])], dtype=np.int64)\n",
    "encoded_shops.index = shops['shop_id']\n",
    "encoded_shops = encoded_shops.sort_index()\n",
    "encoded_shops.head()"
   ]
  },
  {
   "cell_type": "markdown",
   "metadata": {},
   "source": [
    "Сохраняем промежуточный результат для проведения кластеризации по факторам. "
   ]
  },
  {
   "cell_type": "code",
   "execution_count": 29,
   "metadata": {},
   "outputs": [],
   "source": [
    "# encoded_shops.to_csv('encoded_shops.csv')"
   ]
  },
  {
   "cell_type": "markdown",
   "metadata": {},
   "source": [
    "Составляем общую базу данных. Кодированию в данной базе не подлежат столбцы `date` и `number_of_counters`. Столбец `total_items_sold` является целевой переменной, поэтому также будет удалён. В дальнейшем подлежит разбиение по магазинам и товарам, поэтому данная информация так же удаляется при кодировании"
   ]
  },
  {
   "cell_type": "code",
   "execution_count": 30,
   "metadata": {},
   "outputs": [
    {
     "data": {
      "text/html": [
       "<div>\n",
       "<style scoped>\n",
       "    .dataframe tbody tr th:only-of-type {\n",
       "        vertical-align: middle;\n",
       "    }\n",
       "\n",
       "    .dataframe tbody tr th {\n",
       "        vertical-align: top;\n",
       "    }\n",
       "\n",
       "    .dataframe thead th {\n",
       "        text-align: right;\n",
       "    }\n",
       "</style>\n",
       "<table border=\"1\" class=\"dataframe\">\n",
       "  <thead>\n",
       "    <tr style=\"text-align: right;\">\n",
       "      <th></th>\n",
       "      <th>date</th>\n",
       "      <th>shop_id</th>\n",
       "      <th>owner</th>\n",
       "      <th>number_of_counters</th>\n",
       "      <th>goods_type</th>\n",
       "      <th>total_items_sold</th>\n",
       "      <th>neighborhood</th>\n",
       "      <th>city</th>\n",
       "      <th>is_on_the_road</th>\n",
       "      <th>is_with_the_well</th>\n",
       "      <th>is_with_additional_services</th>\n",
       "      <th>shop_type</th>\n",
       "      <th>location</th>\n",
       "    </tr>\n",
       "  </thead>\n",
       "  <tbody>\n",
       "    <tr>\n",
       "      <th>0</th>\n",
       "      <td>2146-01-01</td>\n",
       "      <td>0</td>\n",
       "      <td>Рейдеры</td>\n",
       "      <td>4</td>\n",
       "      <td>Съедобный хлам</td>\n",
       "      <td>6.0</td>\n",
       "      <td>В центре</td>\n",
       "      <td>Нефтеперегонный Завод</td>\n",
       "      <td>нет</td>\n",
       "      <td>нет</td>\n",
       "      <td>нет</td>\n",
       "      <td>0</td>\n",
       "      <td>Свистящие Степи</td>\n",
       "    </tr>\n",
       "    <tr>\n",
       "      <th>1</th>\n",
       "      <td>2146-01-01</td>\n",
       "      <td>0</td>\n",
       "      <td>Рейдеры</td>\n",
       "      <td>4</td>\n",
       "      <td>Хлам</td>\n",
       "      <td>26.0</td>\n",
       "      <td>В центре</td>\n",
       "      <td>Нефтеперегонный Завод</td>\n",
       "      <td>нет</td>\n",
       "      <td>нет</td>\n",
       "      <td>нет</td>\n",
       "      <td>0</td>\n",
       "      <td>Свистящие Степи</td>\n",
       "    </tr>\n",
       "    <tr>\n",
       "      <th>2</th>\n",
       "      <td>2146-01-01</td>\n",
       "      <td>0</td>\n",
       "      <td>Рейдеры</td>\n",
       "      <td>4</td>\n",
       "      <td>Бензак</td>\n",
       "      <td>10537.0</td>\n",
       "      <td>В центре</td>\n",
       "      <td>Нефтеперегонный Завод</td>\n",
       "      <td>нет</td>\n",
       "      <td>нет</td>\n",
       "      <td>нет</td>\n",
       "      <td>0</td>\n",
       "      <td>Свистящие Степи</td>\n",
       "    </tr>\n",
       "    <tr>\n",
       "      <th>3</th>\n",
       "      <td>2146-01-01</td>\n",
       "      <td>1</td>\n",
       "      <td>Рейдеры</td>\n",
       "      <td>5</td>\n",
       "      <td>Съедобный хлам</td>\n",
       "      <td>17.0</td>\n",
       "      <td>В центре</td>\n",
       "      <td>Нефтеперегонный Завод</td>\n",
       "      <td>нет</td>\n",
       "      <td>нет</td>\n",
       "      <td>нет</td>\n",
       "      <td>0</td>\n",
       "      <td>Свистящие Степи</td>\n",
       "    </tr>\n",
       "    <tr>\n",
       "      <th>4</th>\n",
       "      <td>2146-01-01</td>\n",
       "      <td>1</td>\n",
       "      <td>Рейдеры</td>\n",
       "      <td>5</td>\n",
       "      <td>Хлам</td>\n",
       "      <td>9.0</td>\n",
       "      <td>В центре</td>\n",
       "      <td>Нефтеперегонный Завод</td>\n",
       "      <td>нет</td>\n",
       "      <td>нет</td>\n",
       "      <td>нет</td>\n",
       "      <td>0</td>\n",
       "      <td>Свистящие Степи</td>\n",
       "    </tr>\n",
       "  </tbody>\n",
       "</table>\n",
       "</div>"
      ],
      "text/plain": [
       "        date  shop_id    owner  number_of_counters      goods_type  \\\n",
       "0 2146-01-01        0  Рейдеры                   4  Съедобный хлам   \n",
       "1 2146-01-01        0  Рейдеры                   4            Хлам   \n",
       "2 2146-01-01        0  Рейдеры                   4          Бензак   \n",
       "3 2146-01-01        1  Рейдеры                   5  Съедобный хлам   \n",
       "4 2146-01-01        1  Рейдеры                   5            Хлам   \n",
       "\n",
       "   total_items_sold neighborhood                   city is_on_the_road  \\\n",
       "0               6.0     В центре  Нефтеперегонный Завод            нет   \n",
       "1              26.0     В центре  Нефтеперегонный Завод            нет   \n",
       "2           10537.0     В центре  Нефтеперегонный Завод            нет   \n",
       "3              17.0     В центре  Нефтеперегонный Завод            нет   \n",
       "4               9.0     В центре  Нефтеперегонный Завод            нет   \n",
       "\n",
       "  is_with_the_well is_with_additional_services shop_type         location  \n",
       "0              нет                         нет         0  Свистящие Степи  \n",
       "1              нет                         нет         0  Свистящие Степи  \n",
       "2              нет                         нет         0  Свистящие Степи  \n",
       "3              нет                         нет         0  Свистящие Степи  \n",
       "4              нет                         нет         0  Свистящие Степи  "
      ]
     },
     "execution_count": 30,
     "metadata": {},
     "output_type": "execute_result"
    }
   ],
   "source": [
    "data = sales.merge(shops, how='left', on='shop_id')\n",
    "data.head()"
   ]
  },
  {
   "cell_type": "markdown",
   "metadata": {},
   "source": [
    "Применяем `OneHotEncoder` из `sklearn`. "
   ]
  },
  {
   "cell_type": "code",
   "execution_count": 31,
   "metadata": {},
   "outputs": [
    {
     "data": {
      "text/plain": [
       "(5081459, 43)"
      ]
     },
     "execution_count": 31,
     "metadata": {},
     "output_type": "execute_result"
    }
   ],
   "source": [
    "delete = ['date', 'shop_id', 'number_of_counters', 'goods_type', 'total_items_sold']\n",
    "X = OneHotEncoder(sparse=False).fit_transform(data.drop(columns=delete).values)\n",
    "X.shape"
   ]
  },
  {
   "cell_type": "markdown",
   "metadata": {},
   "source": [
    "Присоединяем оставшиеся признаки и целевую переменную. Строим `pandas.DataFrame` с исходными датами. "
   ]
  },
  {
   "cell_type": "code",
   "execution_count": 32,
   "metadata": {},
   "outputs": [
    {
     "data": {
      "text/html": [
       "<div>\n",
       "<style scoped>\n",
       "    .dataframe tbody tr th:only-of-type {\n",
       "        vertical-align: middle;\n",
       "    }\n",
       "\n",
       "    .dataframe tbody tr th {\n",
       "        vertical-align: top;\n",
       "    }\n",
       "\n",
       "    .dataframe thead th {\n",
       "        text-align: right;\n",
       "    }\n",
       "</style>\n",
       "<table border=\"1\" class=\"dataframe\">\n",
       "  <thead>\n",
       "    <tr style=\"text-align: right;\">\n",
       "      <th></th>\n",
       "      <th>x1</th>\n",
       "      <th>x2</th>\n",
       "      <th>x3</th>\n",
       "      <th>x4</th>\n",
       "      <th>x5</th>\n",
       "      <th>x6</th>\n",
       "      <th>x7</th>\n",
       "      <th>x8</th>\n",
       "      <th>x9</th>\n",
       "      <th>x10</th>\n",
       "      <th>...</th>\n",
       "      <th>x39</th>\n",
       "      <th>x40</th>\n",
       "      <th>x41</th>\n",
       "      <th>x42</th>\n",
       "      <th>x43</th>\n",
       "      <th>x44</th>\n",
       "      <th>date</th>\n",
       "      <th>shop_id</th>\n",
       "      <th>goods_type</th>\n",
       "      <th>y</th>\n",
       "    </tr>\n",
       "  </thead>\n",
       "  <tbody>\n",
       "    <tr>\n",
       "      <th>0</th>\n",
       "      <td>4.0</td>\n",
       "      <td>0.0</td>\n",
       "      <td>0.0</td>\n",
       "      <td>0.0</td>\n",
       "      <td>1.0</td>\n",
       "      <td>0.0</td>\n",
       "      <td>1.0</td>\n",
       "      <td>0.0</td>\n",
       "      <td>0.0</td>\n",
       "      <td>0.0</td>\n",
       "      <td>...</td>\n",
       "      <td>0.0</td>\n",
       "      <td>0.0</td>\n",
       "      <td>0.0</td>\n",
       "      <td>0.0</td>\n",
       "      <td>1.0</td>\n",
       "      <td>0.0</td>\n",
       "      <td>2146-01-01</td>\n",
       "      <td>0</td>\n",
       "      <td>Съедобный хлам</td>\n",
       "      <td>6.0</td>\n",
       "    </tr>\n",
       "    <tr>\n",
       "      <th>1</th>\n",
       "      <td>4.0</td>\n",
       "      <td>0.0</td>\n",
       "      <td>0.0</td>\n",
       "      <td>0.0</td>\n",
       "      <td>1.0</td>\n",
       "      <td>0.0</td>\n",
       "      <td>1.0</td>\n",
       "      <td>0.0</td>\n",
       "      <td>0.0</td>\n",
       "      <td>0.0</td>\n",
       "      <td>...</td>\n",
       "      <td>0.0</td>\n",
       "      <td>0.0</td>\n",
       "      <td>0.0</td>\n",
       "      <td>0.0</td>\n",
       "      <td>1.0</td>\n",
       "      <td>0.0</td>\n",
       "      <td>2146-01-01</td>\n",
       "      <td>0</td>\n",
       "      <td>Хлам</td>\n",
       "      <td>26.0</td>\n",
       "    </tr>\n",
       "    <tr>\n",
       "      <th>2</th>\n",
       "      <td>4.0</td>\n",
       "      <td>0.0</td>\n",
       "      <td>0.0</td>\n",
       "      <td>0.0</td>\n",
       "      <td>1.0</td>\n",
       "      <td>0.0</td>\n",
       "      <td>1.0</td>\n",
       "      <td>0.0</td>\n",
       "      <td>0.0</td>\n",
       "      <td>0.0</td>\n",
       "      <td>...</td>\n",
       "      <td>0.0</td>\n",
       "      <td>0.0</td>\n",
       "      <td>0.0</td>\n",
       "      <td>0.0</td>\n",
       "      <td>1.0</td>\n",
       "      <td>0.0</td>\n",
       "      <td>2146-01-01</td>\n",
       "      <td>0</td>\n",
       "      <td>Бензак</td>\n",
       "      <td>10537.0</td>\n",
       "    </tr>\n",
       "    <tr>\n",
       "      <th>3</th>\n",
       "      <td>5.0</td>\n",
       "      <td>0.0</td>\n",
       "      <td>0.0</td>\n",
       "      <td>0.0</td>\n",
       "      <td>1.0</td>\n",
       "      <td>0.0</td>\n",
       "      <td>1.0</td>\n",
       "      <td>0.0</td>\n",
       "      <td>0.0</td>\n",
       "      <td>0.0</td>\n",
       "      <td>...</td>\n",
       "      <td>0.0</td>\n",
       "      <td>0.0</td>\n",
       "      <td>0.0</td>\n",
       "      <td>0.0</td>\n",
       "      <td>1.0</td>\n",
       "      <td>0.0</td>\n",
       "      <td>2146-01-01</td>\n",
       "      <td>1</td>\n",
       "      <td>Съедобный хлам</td>\n",
       "      <td>17.0</td>\n",
       "    </tr>\n",
       "    <tr>\n",
       "      <th>4</th>\n",
       "      <td>5.0</td>\n",
       "      <td>0.0</td>\n",
       "      <td>0.0</td>\n",
       "      <td>0.0</td>\n",
       "      <td>1.0</td>\n",
       "      <td>0.0</td>\n",
       "      <td>1.0</td>\n",
       "      <td>0.0</td>\n",
       "      <td>0.0</td>\n",
       "      <td>0.0</td>\n",
       "      <td>...</td>\n",
       "      <td>0.0</td>\n",
       "      <td>0.0</td>\n",
       "      <td>0.0</td>\n",
       "      <td>0.0</td>\n",
       "      <td>1.0</td>\n",
       "      <td>0.0</td>\n",
       "      <td>2146-01-01</td>\n",
       "      <td>1</td>\n",
       "      <td>Хлам</td>\n",
       "      <td>9.0</td>\n",
       "    </tr>\n",
       "  </tbody>\n",
       "</table>\n",
       "<p>5 rows × 48 columns</p>\n",
       "</div>"
      ],
      "text/plain": [
       "    x1   x2   x3   x4   x5   x6   x7   x8   x9  x10  ...  x39  x40  x41  x42  \\\n",
       "0  4.0  0.0  0.0  0.0  1.0  0.0  1.0  0.0  0.0  0.0  ...  0.0  0.0  0.0  0.0   \n",
       "1  4.0  0.0  0.0  0.0  1.0  0.0  1.0  0.0  0.0  0.0  ...  0.0  0.0  0.0  0.0   \n",
       "2  4.0  0.0  0.0  0.0  1.0  0.0  1.0  0.0  0.0  0.0  ...  0.0  0.0  0.0  0.0   \n",
       "3  5.0  0.0  0.0  0.0  1.0  0.0  1.0  0.0  0.0  0.0  ...  0.0  0.0  0.0  0.0   \n",
       "4  5.0  0.0  0.0  0.0  1.0  0.0  1.0  0.0  0.0  0.0  ...  0.0  0.0  0.0  0.0   \n",
       "\n",
       "   x43  x44       date  shop_id      goods_type        y  \n",
       "0  1.0  0.0 2146-01-01        0  Съедобный хлам      6.0  \n",
       "1  1.0  0.0 2146-01-01        0            Хлам     26.0  \n",
       "2  1.0  0.0 2146-01-01        0          Бензак  10537.0  \n",
       "3  1.0  0.0 2146-01-01        1  Съедобный хлам     17.0  \n",
       "4  1.0  0.0 2146-01-01        1            Хлам      9.0  \n",
       "\n",
       "[5 rows x 48 columns]"
      ]
     },
     "execution_count": 32,
     "metadata": {},
     "output_type": "execute_result"
    }
   ],
   "source": [
    "dataX = pd.DataFrame(np.hstack((data[['number_of_counters']].values, X)), \n",
    "                     columns=['x' + str(i) for i in range(1, 45)])\n",
    "\n",
    "cols = ['date', 'shop_id', 'goods_type']\n",
    "dataX[cols] = data[cols]\n",
    "dataX['y'] = data['total_items_sold']\n",
    "dataX.head()"
   ]
  },
  {
   "cell_type": "markdown",
   "metadata": {},
   "source": [
    "Экспортируем результат в `PARQUET`"
   ]
  },
  {
   "cell_type": "code",
   "execution_count": 33,
   "metadata": {},
   "outputs": [],
   "source": [
    "# dataX.to_parquet('forecast_data.parquet')"
   ]
  }
 ],
 "metadata": {
  "kernelspec": {
   "display_name": "Python 3",
   "language": "python",
   "name": "python3"
  },
  "language_info": {
   "codemirror_mode": {
    "name": "ipython",
    "version": 3
   },
   "file_extension": ".py",
   "mimetype": "text/x-python",
   "name": "python",
   "nbconvert_exporter": "python",
   "pygments_lexer": "ipython3",
   "version": "3.7.9"
  }
 },
 "nbformat": 4,
 "nbformat_minor": 4
}
